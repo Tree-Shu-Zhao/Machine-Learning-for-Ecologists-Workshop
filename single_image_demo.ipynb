{
 "cells": [
  {
   "cell_type": "code",
   "execution_count": null,
   "metadata": {
    "vscode": {
     "languageId": "plaintext"
    }
   },
   "outputs": [],
   "source": [
    "# Prepare the running environment\n",
    "!pip install ultralytics"
   ]
  },
  {
   "cell_type": "code",
   "execution_count": null,
   "metadata": {
    "vscode": {
     "languageId": "plaintext"
    }
   },
   "outputs": [],
   "source": [
    "# Download the YOLO model and test images\n",
    "!wget https://huggingface.co/TreezzZ/InsectNet_Workshop/resolve/main/best.pt\n",
    "!wget https://huggingface.co/TreezzZ/InsectNet_Workshop/resolve/main/test_image.jpg\n",
    "!wget https://huggingface.co/TreezzZ/InsectNet_Workshop/resolve/main/home.jpg"
   ]
  },
  {
   "cell_type": "code",
   "execution_count": null,
   "metadata": {
    "vscode": {
     "languageId": "plaintext"
    }
   },
   "outputs": [],
   "source": [
    "# 🐝 Insect Detector - Simple Demo\n",
    "# This is a simplified insect detection script!\n",
    "\n",
    "import cv2\n",
    "from utils import load_yolo_model, load_image, perform_detection, postprocess_results, draw_detections, display_results\n",
    "\n",
    "# === Step 1: Load the YOLO model ===\n",
    "print(\"🔍 Step 1: Loading the insect detection model...\")\n",
    "\n",
    "# === Step 2: Open a test image ===\n",
    "print(\"📷 Step 2: Opening the test image...\")\n",
    "\n",
    "# === Step 3: Use YOLO model to detect insects ===\n",
    "print(\"🐞 Step 3: Looking for insects in the image...\")\n",
    "\n",
    "# === Step 4: Process results and display ===\n",
    "print(\"🎉 Step 4: Showing what we found!\")\n"
   ]
  }
 ],
 "metadata": {
  "language_info": {
   "name": "python"
  }
 },
 "nbformat": 4,
 "nbformat_minor": 2
}
